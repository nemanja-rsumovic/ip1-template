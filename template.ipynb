{
 "cells": [
  {
   "cell_type": "code",
   "execution_count": 1,
   "id": "66161d5c-bdb9-4800-95f0-ec6e4b7d35b6",
   "metadata": {},
   "outputs": [],
   "source": [
    "import pandas as pd\n",
    "import numpy as np\n",
    "import seaborn as sns"
   ]
  },
  {
   "cell_type": "code",
   "execution_count": 2,
   "id": "92f3cb17-408e-4199-9e66-3545ddb7a8da",
   "metadata": {},
   "outputs": [],
   "source": [
    "from matplotlib import pyplot as plt"
   ]
  },
  {
   "cell_type": "code",
   "execution_count": 3,
   "id": "f736ac82-c50f-4a1a-a283-d4748bc0a320",
   "metadata": {},
   "outputs": [],
   "source": [
    "from sklearn.metrics import confusion_matrix, accuracy_score, f1_score, classification_report"
   ]
  },
  {
   "cell_type": "markdown",
   "id": "53daea88-60e6-4587-b2d6-2993c6138a6f",
   "metadata": {},
   "source": [
    "## Podela na trening i test skup"
   ]
  },
  {
   "cell_type": "code",
   "execution_count": 4,
   "id": "a059312d-1aae-433f-b394-3826dbd8c792",
   "metadata": {},
   "outputs": [],
   "source": [
    "from sklearn.model_selection import train_test_split"
   ]
  },
  {
   "cell_type": "markdown",
   "id": "28a7603c-95cf-4f2a-a84c-190961806b77",
   "metadata": {},
   "source": [
    "```\n",
    "X_train, X_test, Y_train, Y_test = train_test_split(X, Y, train_size=0.3, random_state=23, stratify=Y)\n",
    "```"
   ]
  },
  {
   "cell_type": "markdown",
   "id": "1a2a3e93-906d-406a-b634-787649645fd9",
   "metadata": {},
   "source": [
    "## Provera balansiranosti klasa (plt.hist)\n",
    "```\n",
    "import numpy as np\n",
    "\n",
    "freq, bins, _ = plt.hist(Y, edgecolor='white', bins=2)\n",
    "\n",
    "bin_centers = np.diff(bins)*0.5 + bins[:-1]   # računanje centra korpice\n",
    "\n",
    "for fr, bc in zip(freq, bin_centers):\n",
    "    height = int(fr)\n",
    "    plt.annotate(\"{}\".format(height),\n",
    "               xy = (bc, height),             # poziciranje broja iznad korpice\n",
    "               xytext = (0,0.2),              # odvajanje teksta od korpice\n",
    "               textcoords = \"offset points\", \n",
    "               ha = 'center', va = 'bottom'\n",
    "               )\n",
    "\n",
    "plt.show()\n",
    "```"
   ]
  },
  {
   "cell_type": "markdown",
   "id": "ede5d19d-2291-4af2-a8b8-504177b218f3",
   "metadata": {},
   "source": [
    "## Standardizacija"
   ]
  },
  {
   "cell_type": "code",
   "execution_count": 5,
   "id": "9c64d224-0630-4719-93d1-a5da25f998eb",
   "metadata": {},
   "outputs": [],
   "source": [
    "from sklearn.preprocessing import StandardScaler"
   ]
  },
  {
   "cell_type": "markdown",
   "id": "e84715ba-e732-41c4-a9db-8a5290fdc652",
   "metadata": {},
   "source": [
    "```\n",
    "scaler = StandardScaler()\n",
    "scaler.fit(X_train)\n",
    "\n",
    "X_train = scaler.transform(X_train)\n",
    "X_test  = scaler.transform(X_test)\n",
    "```"
   ]
  },
  {
   "cell_type": "markdown",
   "id": "72405cf6-a872-4c0a-abd2-7c930792c215",
   "metadata": {},
   "source": [
    "## Normalizacija"
   ]
  },
  {
   "cell_type": "code",
   "execution_count": 13,
   "id": "f8e0a31c-94af-4645-98b3-d2db0d1bc0a6",
   "metadata": {},
   "outputs": [],
   "source": [
    "from sklearn.preprocessing import MinMaxScaler"
   ]
  },
  {
   "cell_type": "markdown",
   "id": "246f2c64-1807-40b4-aaf9-f3b899b91609",
   "metadata": {},
   "source": [
    "```\n",
    "scaler = MinMaxScaler()\n",
    "scaler.fit(X_train)\n",
    "\n",
    "X_train = scaler.transform(X_train)\n",
    "X_test  = scaler.transform(X_test)\n",
    "```"
   ]
  },
  {
   "cell_type": "markdown",
   "id": "5917764c-f137-4064-81ed-be5e76396f14",
   "metadata": {},
   "source": [
    "## Stabla odlucivanja"
   ]
  },
  {
   "cell_type": "code",
   "execution_count": 6,
   "id": "a4b19c4b-1b80-489b-98b4-798e4d03b254",
   "metadata": {},
   "outputs": [],
   "source": [
    "from sklearn.tree import DecisionTreeClassifier, plot_tree"
   ]
  },
  {
   "cell_type": "markdown",
   "id": "ad2a6706-3caa-4a13-80e0-f1fd6caf62d7",
   "metadata": {},
   "source": [
    "```\n",
    "dtc = DecisionTreeClassifier()\n",
    "dtc.fit(X_train, Y_train)\n",
    "\n",
    "Y_test_pred = dtc.predict(X_test)\n",
    "\n",
    "confusion_matrix(Y_test, Y_test_pred)\n",
    "classification_report(Y_test, Y_test_pred)\n",
    "\n",
    "plt.figure(figsize=(7,7))\n",
    "plot_tree(dtc, class_names=['B','M'], feature_names=feature_names, filled=True)\n",
    "plt.title(\"Decision tree of depth {} with {} nodes\".format(dtc.get_depth(), dtc.get_n_leaves()))\n",
    "plt.show()\n",
    "```"
   ]
  },
  {
   "cell_type": "markdown",
   "id": "8adb6b0a-399a-4318-a5f7-78f3de5e9f14",
   "metadata": {},
   "source": [
    "## GridSearchCV"
   ]
  },
  {
   "cell_type": "code",
   "execution_count": 7,
   "id": "4b36316e-d1de-476e-bb4a-9f4cdfe263cc",
   "metadata": {},
   "outputs": [],
   "source": [
    "from sklearn.model_selection import GridSearchCV"
   ]
  },
  {
   "cell_type": "markdown",
   "id": "f41ec9bd-0750-4093-9ad3-9619e882a2ac",
   "metadata": {},
   "source": [
    "```\n",
    "params = {\n",
    "    'criterion' : ['gini', 'entropy'],\n",
    "    'max_depth' : [2, 4, 6, 8]\n",
    "}\n",
    "\n",
    "estimator = GridSearchCV(DecisionTreeClassifier(), params, cv=5, verbose=4)\n",
    "# estimator = GridSearchCV(DecisionTreeClassifier(), params, cv=5, verbose=4, scoring='precision')\n",
    "# estimator = GridSearchCV(DecisionTreeClassifier(), params, cv=5, verbose=4, scoring='accuracy')\n",
    "\n",
    "estimator.fit(X_train, Y_train)\n",
    "\n",
    "estimator.best_estimator_\n",
    "estimator.best_params_\n",
    "estimator.best_score_\n",
    "\n",
    "Y_test_pred = estimator.best_estimator_.predict(X_test)\n",
    "\n",
    "confusion_matrix(Y_test, Y_test_pred)\n",
    "```"
   ]
  },
  {
   "cell_type": "markdown",
   "id": "8b847f55-9277-4d01-a559-c9fac8590f27",
   "metadata": {},
   "source": [
    "## Slucajne sume"
   ]
  },
  {
   "cell_type": "code",
   "execution_count": 8,
   "id": "94ee7b01-1835-40fc-9460-3c19ef98228b",
   "metadata": {},
   "outputs": [],
   "source": [
    "from sklearn.ensemble import RandomForestClassifier"
   ]
  },
  {
   "cell_type": "markdown",
   "id": "13626d8e-a4bb-495e-ad00-479d41b4c4e7",
   "metadata": {},
   "source": [
    "```\n",
    "random_forest = RandomForestClassifier(n_estimators=5, random_state=42)\n",
    "random_forest.fit(X_train, Y_train)\n",
    "\n",
    "Y_test_pred = random_forest.predict(X_test)\n",
    "\n",
    "confusion_matrix(Y_test, Y_test_pred)\n",
    "classification_report(Y_test, Y_test_pred)\n",
    "\n",
    "\n",
    "for i in range(1, len(random_forest.estimators_) + 1):\n",
    "    plt.subplot(1, 5, i)\n",
    "    #report(random_forest.estimators_[i-1], X_test, Y_test)\n",
    "    plot_tree(random_forest.estimators_[i-1], filled=True)\n",
    "```"
   ]
  },
  {
   "cell_type": "markdown",
   "id": "e8fe7a1c-26b4-43a6-b4d4-036fa5374bcc",
   "metadata": {},
   "source": [
    "## ROC kriva"
   ]
  },
  {
   "cell_type": "code",
   "execution_count": 9,
   "id": "487f8312-6bdd-4bc9-bfc7-7543f2493879",
   "metadata": {},
   "outputs": [],
   "source": [
    "from sklearn.metrics import roc_curve, roc_auc_score"
   ]
  },
  {
   "cell_type": "markdown",
   "id": "22477dbe-c085-4a10-85e6-17a3a64e14ee",
   "metadata": {},
   "source": [
    "```\n",
    "models = [dtc, estimator.best_estimator_, random_forest]\n",
    "model_names = ['DecisionTree', 'GridSearchCV', 'RandomForest']\n",
    "\n",
    "for model, model_name in zip(models, model_names):\n",
    "    y_pred = model.predict(X_test)\n",
    "\n",
    "    fpr,tpr, _ = roc_curve(Y_test, y_pred)\n",
    "    auc = roc_auc_score(Y_test, y_pred)\n",
    "\n",
    "    lab = model_name + \" (auc: \" + str(round(auc, 2)) + \")\"\n",
    "    plt.plot(fpr, tpr, label=lab)\n",
    "\n",
    "plt.plot([0, 1], [0, 1], label='Random (auc: 0.5)', color='red')\n",
    "plt.title(\"Poređenje modela\")\n",
    "plt.legend()\n",
    "plt.show()\n",
    "```"
   ]
  },
  {
   "cell_type": "markdown",
   "id": "58a6365e-c416-46c1-a6e5-0b12fd818422",
   "metadata": {},
   "source": [
    "## KNN"
   ]
  },
  {
   "cell_type": "markdown",
   "id": "0b409f28-93da-4308-8e80-176c17224566",
   "metadata": {},
   "source": [
    "```\n",
    "# Potrebna normalizacija (nakon podele na test/trening skup)\n",
    "\n",
    "def IQR(data, feature_names):\n",
    "    \n",
    "    iqr = pd.DataFrame(0, index=feature_names, columns=['lower', 'min', 'num_lower', 'upper', 'max', 'num_upper', 'percantage'])\n",
    "    for name in feature_names:\n",
    "\n",
    "        (Q1, Q3) = X[name].quantile([0.25, 0.75])\n",
    "        IQR = Q3 - Q1\n",
    "        upper = Q3 + (1.5 * IQR)\n",
    "        lower = Q1 - (1.5 * IQR)\n",
    "        \n",
    "        iqr.loc[name, 'upper'] = upper\n",
    "        iqr.loc[name, 'lower'] = lower\n",
    "\n",
    "        num_of_out_lower = (X[name] < lower).sum()\n",
    "        num_of_out_upper = (X[name] > upper).sum()\n",
    "\n",
    "        percentage = round((num_of_out_lower + num_of_out_upper) / X.shape[0] * 100)\n",
    "\n",
    "        iqr.loc[name, 'num_lower'], iqr.loc[name, 'num_upper'], iqr.loc[name, 'percantage']  = num_of_out_lower, num_of_out_upper, percentage\n",
    "        iqr.loc[name, 'min'], iqr.loc[name, 'max'] = min(X[name]), max(X[name])    \n",
    "    return iqr\n",
    "```"
   ]
  },
  {
   "cell_type": "code",
   "execution_count": 14,
   "id": "6fc1acad-f9b8-4742-ab94-968ddf73259a",
   "metadata": {},
   "outputs": [],
   "source": [
    "from sklearn.neighbors import KNeighborsClassifier"
   ]
  },
  {
   "cell_type": "markdown",
   "id": "0056e0fe-2e6f-488c-8d4a-163138714772",
   "metadata": {},
   "source": [
    "```\n",
    "knn = KNeighborsClassifier()\n",
    "knn.fit(X_train, Y_train)\n",
    "\n",
    "Y_test_pred = knn.predict(X_test)\n",
    "\n",
    "confusion_matrix(Y_test,Y_test_pred)\n",
    "classification_report(Y_test,Y_test_pred)\n",
    "\n",
    "#### Grid SearchCV ####\n",
    "\n",
    "from sklearn.model_selection import GridSearchCV\n",
    "\n",
    "params_grid = {'n_neighbors': range(10, 50, 5),\n",
    "               'weights': ['uniform', 'distance'],\n",
    "                'p': [1, 2]}\n",
    "\n",
    "estimator = GridSearchCV(KNeighborsClassifier(), params_grid, cv=6, verbose=4)\n",
    "estimator.fit(X_train,Y_train)\n",
    "\n",
    "#### Ansambli ####\n",
    "\n",
    "from sklearn.ensemble import BaggingClassifier\n",
    "\n",
    "baggingKnn = BaggingClassifier(estimator=KNeighborsClassifier(), n_estimators=20)\n",
    "baggingKnn.fit(X_train, Y_train)\n",
    "\n",
    "Y_test_pred = baggingKnn.predict(X_test)\n",
    "\n",
    "confusion_matrix(Y_test,Y_test_pred)\n",
    "classification_report(Y_test,Y_test_pred)\n",
    "```"
   ]
  },
  {
   "cell_type": "markdown",
   "id": "cd4a1308-0e1c-4508-8082-a1e5348e4627",
   "metadata": {},
   "source": [
    "## Categorical Naive Bayes"
   ]
  },
  {
   "cell_type": "code",
   "execution_count": 15,
   "id": "8c24544a-69a8-4454-b8be-81f4f8c7eeeb",
   "metadata": {},
   "outputs": [],
   "source": [
    "# 1. potrebno je pretvoriti kategoricke atribute u brojeve\n",
    "from sklearn.preprocessing import OrdinalEncoder"
   ]
  },
  {
   "cell_type": "markdown",
   "id": "b1d86ab1-0070-4160-af2c-92625f986fa4",
   "metadata": {},
   "source": [
    "```\n",
    "oe = OrdinalEncoder()\n",
    "oe.fit(X_train)\n",
    "\n",
    "oe.categories_\n",
    "\n",
    "X_train = oe.transform(X_train)\n",
    "X_test = oe.transform(X_test)\n",
    "```"
   ]
  },
  {
   "cell_type": "code",
   "execution_count": 16,
   "id": "789906bc-0d4f-4119-9570-c5c7890b71c6",
   "metadata": {},
   "outputs": [],
   "source": [
    "from sklearn.naive_bayes import CategoricalNB"
   ]
  },
  {
   "cell_type": "markdown",
   "id": "015b9c5e-6c3a-46e3-8494-a098f694c3ce",
   "metadata": {},
   "source": [
    "```\n",
    "bayes = CategoricalNB()\n",
    "bayes.fit(X_train, Y_train)\n",
    "\n",
    "bayes.category_count_\n",
    "bayes.class_count_\n",
    "\n",
    "Y_test_pred = bayes.predict(X_test)\n",
    "\n",
    "confusion_matrix(y_test, y_test_pred)\n",
    "```"
   ]
  },
  {
   "cell_type": "code",
   "execution_count": 19,
   "id": "20183b5a-1a90-47d0-9ce6-b49f9daf829b",
   "metadata": {},
   "outputs": [],
   "source": [
    "from sklearn.feature_extraction import DictVectorizer\n",
    "from sklearn.naive_bayes import MultinomialNB"
   ]
  },
  {
   "cell_type": "markdown",
   "id": "073891d8-4214-47d8-8c9b-b60aa6fec785",
   "metadata": {},
   "source": [
    "```\n",
    "dv = DictVectorizer()\n",
    "dv.fit(X_train)\n",
    "\n",
    "dv.feature_names_\n",
    "\n",
    "sparse_matrix = dv.transform(X_train)\n",
    "sparse_matrix.toarray()\n",
    "\n",
    "X_train = pd.DataFrame(sparse_matrix.toarray(), columns = dv.feature_names_)\n",
    "\n",
    "###\n",
    "\n",
    "bayes = MultinomialNB()\n",
    "bayes.fit(X_train, Y_train)\n",
    "\n",
    "bayes.classes_\n",
    "bayes.class_count_\n",
    "bayes.feature_count_\n",
    "\n",
    "Y_test_pred = bayes.predict(X_test)\n",
    "\n",
    "confusion_matrix(y_test, y_test_pred)\n",
    "```"
   ]
  },
  {
   "cell_type": "markdown",
   "id": "019aac84-3b07-4a49-8d0a-c3657f733bbd",
   "metadata": {},
   "source": [
    "### Klasifikacija teksta za dobijanje  podataka"
   ]
  },
  {
   "cell_type": "code",
   "execution_count": 21,
   "id": "e47c5985-2c03-420f-855c-27213fa2ee44",
   "metadata": {},
   "outputs": [],
   "source": [
    "import os"
   ]
  },
  {
   "cell_type": "markdown",
   "id": "26672ab8-f494-4d8b-abcf-0bb0336bef09",
   "metadata": {},
   "source": [
    "```\n",
    "def read_data(root_dir):\n",
    "    corpus = []\n",
    "    classes = []\n",
    "    for class_name in os.listdir(root_dir):\n",
    "        class_dir = os.path.join(root_dir, class_name)\n",
    "        for file_name in os.listdir(class_dir):\n",
    "            file_path = os.path.join(class_dir, file_name)\n",
    "            word_counts = {}\n",
    "            with open(file_path, 'r') as f:\n",
    "                for line in f:\n",
    "                    word, count = line.split()\n",
    "                    word_counts[word] = int(count)\n",
    "            corpus.append(word_counts)\n",
    "            classes.append(class_name)\n",
    "    return corpus, classes\n",
    "\n",
    "X_train, y_train = read_data('./ebart/VektoriEbart-5/Skup/')\n",
    "```"
   ]
  },
  {
   "cell_type": "code",
   "execution_count": null,
   "id": "3ae4ad9b-ad00-461c-8eee-dfccd7d0989c",
   "metadata": {},
   "outputs": [],
   "source": []
  }
 ],
 "metadata": {
  "kernelspec": {
   "display_name": "Python 3 (ipykernel)",
   "language": "python",
   "name": "python3"
  },
  "language_info": {
   "codemirror_mode": {
    "name": "ipython",
    "version": 3
   },
   "file_extension": ".py",
   "mimetype": "text/x-python",
   "name": "python",
   "nbconvert_exporter": "python",
   "pygments_lexer": "ipython3",
   "version": "3.12.0"
  }
 },
 "nbformat": 4,
 "nbformat_minor": 5
}
