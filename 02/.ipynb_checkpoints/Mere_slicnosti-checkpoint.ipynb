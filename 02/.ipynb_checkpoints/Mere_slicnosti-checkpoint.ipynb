{
 "cells": [
  {
   "cell_type": "markdown",
   "metadata": {
    "id": "AOIy2nqkx-Zk"
   },
   "source": [
    "# Bliskost-sličnost i različitost\n",
    "\n",
    "1. **Sličnost**\n",
    " * Numerička mera koliko su dva objekta slična\n",
    " * Što dva objekta više liče jedan na drugi sličnost im je veca\n",
    " * Često se meri vrednostima u intervalu [0, 1]\n",
    "  \n",
    "  Kada koristimo?:\n",
    "  - Pronalazak grešaka u podacima (nastalih npr. greškom u kucanju)\n",
    "  - Pronalazak grupa koje su jako slične (klasteri)\n",
    "\n",
    "2. **Različitost**\n",
    " * Numerička mera koliko su dva objekta različita\n",
    " * Što dva objekta više liče jedan na drugi različitost im je manja\n",
    " * Najmanja različitost je često 0; gornja granica varira\n",
    " * Kao sinonim koristi se i termin rastojanje\n",
    " \n",
    " Kada koristimo?\n",
    "  - outlajere\n",
    "  - izuzetke\n",
    "  - granice klastera\n",
    "\n",
    "3. **Blizina** (eng. proximity) označava ili sličnost ili različitost"
   ]
  },
  {
   "cell_type": "code",
   "execution_count": 1,
   "metadata": {
    "id": "ks-TJ7EV7TfR"
   },
   "outputs": [],
   "source": [
    "from matplotlib import pyplot as plt\n",
    "import numpy as np\n",
    "import pandas as pd"
   ]
  },
  {
   "cell_type": "markdown",
   "metadata": {
    "id": "4X7aAGNNujqM"
   },
   "source": [
    "### Mera sličnosti za nominalne atribute\n",
    "\n",
    "$s(p, q) = \\left\\{ \n",
    "  \\begin{array}{ c l }\n",
    "    1 & \\quad \\textrm{ako } p = q \\\\\n",
    "    0                 & \\quad \\textrm{inače}\n",
    "  \\end{array}\n",
    "\\right.$"
   ]
  },
  {
   "cell_type": "code",
   "execution_count": 2,
   "metadata": {
    "id": "p1WTEI0vusAs"
   },
   "outputs": [],
   "source": [
    "def similarity_nominal(p, q): \n",
    "    return int(p==q)"
   ]
  },
  {
   "cell_type": "code",
   "execution_count": 3,
   "metadata": {
    "colab": {
     "base_uri": "https://localhost:8080/"
    },
    "id": "0DHNoNwZgEeQ",
    "outputId": "deb773bc-2646-4840-c988-81aa08d116e9"
   },
   "outputs": [
    {
     "data": {
      "text/plain": [
       "0"
      ]
     },
     "execution_count": 3,
     "metadata": {},
     "output_type": "execute_result"
    }
   ],
   "source": [
    "similarity_nominal(\"Petar\", \"Jovan\") # izlaz: 0"
   ]
  },
  {
   "cell_type": "code",
   "execution_count": 4,
   "metadata": {
    "colab": {
     "base_uri": "https://localhost:8080/"
    },
    "id": "betAlzy1gQRS",
    "outputId": "a37f7aa5-6fc9-4005-cf98-f41331e0b3dc"
   },
   "outputs": [
    {
     "data": {
      "text/plain": [
       "1"
      ]
     },
     "execution_count": 4,
     "metadata": {},
     "output_type": "execute_result"
    }
   ],
   "source": [
    "similarity_nominal(\"Petar\", \"Petar\") # izlaz: 1"
   ]
  },
  {
   "cell_type": "markdown",
   "metadata": {
    "id": "3Fz05e2Whh73"
   },
   "source": [
    "## Mera različitosti za nominalne atribute\n",
    "\n",
    "$d(p, q) = \\left\\{ \n",
    "  \\begin{array}{ c l }\n",
    "    0 & \\quad \\textrm{ako } p = q \\\\\n",
    "    1                 & \\quad \\textrm{inače}\n",
    "  \\end{array}\n",
    "\\right.$"
   ]
  },
  {
   "cell_type": "code",
   "execution_count": 5,
   "metadata": {
    "id": "aMnNFIvdhqFH"
   },
   "outputs": [],
   "source": [
    "def dissimilarity_nominal(p, q):\n",
    "  return 1 - similarity_nominal(p, q)"
   ]
  },
  {
   "cell_type": "code",
   "execution_count": 6,
   "metadata": {
    "colab": {
     "base_uri": "https://localhost:8080/"
    },
    "id": "G5xzholChqU-",
    "outputId": "09e7c7bf-0d4d-41d0-ac41-05a22ce216d7"
   },
   "outputs": [
    {
     "data": {
      "text/plain": [
       "1"
      ]
     },
     "execution_count": 6,
     "metadata": {},
     "output_type": "execute_result"
    }
   ],
   "source": [
    "dissimilarity_nominal(\"Petar\", \"Jovan\") # izlaz: 1"
   ]
  },
  {
   "cell_type": "code",
   "execution_count": 7,
   "metadata": {
    "colab": {
     "base_uri": "https://localhost:8080/"
    },
    "id": "qamp5OmKhucP",
    "outputId": "d6b15c6f-34e8-4ecf-8b2d-42c7737df070"
   },
   "outputs": [
    {
     "data": {
      "text/plain": [
       "0"
      ]
     },
     "execution_count": 7,
     "metadata": {},
     "output_type": "execute_result"
    }
   ],
   "source": [
    "dissimilarity_nominal(\"Petar\", \"Petar\") # izlaz: 0"
   ]
  },
  {
   "cell_type": "markdown",
   "metadata": {
    "id": "ZUALVSh3wfaU"
   },
   "source": [
    "## Mera različitosti za ordinalne atribute\n",
    "\n",
    "$\n",
    "d(p, q) = \\frac{|p'-q'|}{n-1}\n",
    "$\n",
    "\n",
    "Vrednost p i q slikaju u cele brojeve od 0 do n - 1, gde je n broj mogućih vrednosti \n"
   ]
  },
  {
   "cell_type": "code",
   "execution_count": 8,
   "metadata": {
    "id": "JR2tTRFjwTdO"
   },
   "outputs": [],
   "source": [
    "def dissimilarity_ordinal(p, q, values):\n",
    "    n = len(values)\n",
    "    map_values = pd.Series(range(n), index=values)\n",
    "    return abs(map_values[p] - map_values[q])/(n-1)"
   ]
  },
  {
   "cell_type": "code",
   "execution_count": 9,
   "metadata": {
    "colab": {
     "base_uri": "https://localhost:8080/"
    },
    "id": "BI-CjnGGwXID",
    "outputId": "72d2075b-8bb2-4440-e442-0eb39f59bb8b"
   },
   "outputs": [
    {
     "data": {
      "text/plain": [
       "0.6666666666666666"
      ]
     },
     "execution_count": 9,
     "metadata": {},
     "output_type": "execute_result"
    }
   ],
   "source": [
    "dissimilarity_ordinal(\"M\", \"XL\", [\"S\", \"M\", \"L\", \"XL\"])  # izlaz: 0.6666666666666666"
   ]
  },
  {
   "cell_type": "code",
   "execution_count": 10,
   "metadata": {
    "colab": {
     "base_uri": "https://localhost:8080/"
    },
    "id": "gE-ngpvUjHmh",
    "outputId": "e861d020-fb3d-411c-9d35-c7252bb78ddd"
   },
   "outputs": [
    {
     "data": {
      "text/plain": [
       "1.0"
      ]
     },
     "execution_count": 10,
     "metadata": {},
     "output_type": "execute_result"
    }
   ],
   "source": [
    "dissimilarity_ordinal(\"S\", \"XL\", [\"S\", \"M\", \"L\", \"XL\"])  # izlaz: 1.0"
   ]
  },
  {
   "cell_type": "markdown",
   "metadata": {
    "id": "TB8eQ1U7pZmq"
   },
   "source": [
    "## Mera sličnosti za ordinalne atribute\n",
    "\n",
    "$\n",
    "s(p, q) = 1 - d(p, q)\n",
    "$"
   ]
  },
  {
   "cell_type": "code",
   "execution_count": 11,
   "metadata": {
    "id": "kJfHK3qcpkBu"
   },
   "outputs": [],
   "source": [
    "def similarity_ordinal(p, q, values):\n",
    "    return 1-dissimilarity_ordinal(p, q, values)"
   ]
  },
  {
   "cell_type": "code",
   "execution_count": 12,
   "metadata": {
    "colab": {
     "base_uri": "https://localhost:8080/"
    },
    "id": "0yKp5BQCpzGh",
    "outputId": "584b91f6-d41e-46a1-f99f-c9383c372fc4"
   },
   "outputs": [
    {
     "data": {
      "text/plain": [
       "0.33333333333333337"
      ]
     },
     "execution_count": 12,
     "metadata": {},
     "output_type": "execute_result"
    }
   ],
   "source": [
    "similarity_ordinal(\"M\", \"XL\", [\"S\", \"M\", \"L\", \"XL\"])  # izlaz: 0.33333333333333337"
   ]
  },
  {
   "cell_type": "code",
   "execution_count": 13,
   "metadata": {
    "colab": {
     "base_uri": "https://localhost:8080/"
    },
    "id": "3wSh_Ff4p510",
    "outputId": "ffe3775e-2446-4667-aa24-d645425f8e9b"
   },
   "outputs": [
    {
     "data": {
      "text/plain": [
       "0.0"
      ]
     },
     "execution_count": 13,
     "metadata": {},
     "output_type": "execute_result"
    }
   ],
   "source": [
    "similarity_ordinal(\"S\", \"XL\", [\"S\", \"M\", \"L\", \"XL\"])  # izlaz: 0.0"
   ]
  },
  {
   "cell_type": "markdown",
   "metadata": {
    "id": "dS77xFSoyqpN"
   },
   "source": [
    "## Mere različitosti za kvantitativne atribute\n",
    "\n",
    "$d(p, q) = |p-q| $"
   ]
  },
  {
   "cell_type": "code",
   "execution_count": 14,
   "metadata": {
    "id": "zxkI0T37wZ6p"
   },
   "outputs": [],
   "source": [
    "def dissimilarity_quantity(p, q):\n",
    "    return abs(p-q)"
   ]
  },
  {
   "cell_type": "code",
   "execution_count": 15,
   "metadata": {
    "colab": {
     "base_uri": "https://localhost:8080/"
    },
    "id": "aPPccxMlzDhM",
    "outputId": "514516c3-6500-49ba-b5cf-8adb28115ba2"
   },
   "outputs": [
    {
     "data": {
      "text/plain": [
       "datetime.timedelta(days=121)"
      ]
     },
     "execution_count": 15,
     "metadata": {},
     "output_type": "execute_result"
    }
   ],
   "source": [
    "import datetime\n",
    "dissimilarity_quantity(datetime.date(2020, 3, 25), datetime.date(2020, 7, 24))"
   ]
  },
  {
   "cell_type": "markdown",
   "metadata": {
    "id": "3AfikwFqruwK"
   },
   "source": [
    "## Mere sličnosti - opcija 1\n",
    "\n",
    "$s(p, q) = -d(p, q)$"
   ]
  },
  {
   "cell_type": "code",
   "execution_count": 16,
   "metadata": {
    "id": "Pwm6r5J5sql-"
   },
   "outputs": [],
   "source": [
    "def similarity_quantity_1(p, q):\n",
    "    return -dissimilarity_quantity(p, q)"
   ]
  },
  {
   "cell_type": "code",
   "execution_count": 17,
   "metadata": {
    "colab": {
     "base_uri": "https://localhost:8080/"
    },
    "id": "EJq786s5sy00",
    "outputId": "93ddece8-67b4-476a-e003-7a1e7d0b1499"
   },
   "outputs": [
    {
     "data": {
      "text/plain": [
       "datetime.timedelta(days=-121)"
      ]
     },
     "execution_count": 17,
     "metadata": {},
     "output_type": "execute_result"
    }
   ],
   "source": [
    "similarity_quantity_1(datetime.date(2020, 3, 25), datetime.date(2020, 7, 24))"
   ]
  },
  {
   "cell_type": "markdown",
   "metadata": {
    "id": "Q_JIpd3Wt4WS"
   },
   "source": [
    "## Mere sličnosti - opcija 2\n",
    "\n",
    "$s(p, q) = \\frac{1}{1+d}$"
   ]
  },
  {
   "cell_type": "code",
   "execution_count": 18,
   "metadata": {
    "id": "qnHjM6p_t-xs"
   },
   "outputs": [],
   "source": [
    "def similarity_quantity_2(p, q):\n",
    "    return 1/(1+dissimilarity_quantity(p, q).days)"
   ]
  },
  {
   "cell_type": "code",
   "execution_count": 19,
   "metadata": {
    "colab": {
     "base_uri": "https://localhost:8080/"
    },
    "id": "57WXcGCAuGyl",
    "outputId": "679143eb-ae6a-4b3c-9774-08714f7296c5"
   },
   "outputs": [
    {
     "data": {
      "text/plain": [
       "0.00819672131147541"
      ]
     },
     "execution_count": 19,
     "metadata": {},
     "output_type": "execute_result"
    }
   ],
   "source": [
    "similarity_quantity_2(datetime.date(2020, 3, 25), datetime.date(2020, 7, 24)) # 0.00819672131147541"
   ]
  },
  {
   "cell_type": "markdown",
   "metadata": {
    "id": "SM4JAc760OgX"
   },
   "source": [
    "# Različitosti između objekata podataka"
   ]
  },
  {
   "cell_type": "markdown",
   "metadata": {
    "id": "NJ04pPKpxpNO"
   },
   "source": [
    "\n",
    "### Rastojanje Minkovskog:\n",
    "$ mink(x, y) = (\\sum_{k=1}^{n}|x_k-y_k|^r)^\\frac{1}{r}$\n",
    "\n",
    " - r parametar\n",
    " - n broj dimenzija (atributa)\n",
    " - $x_k$ i $y_k$ su vrednosti k-tog atributa objekata x i y\n",
    " - indukovano je **p-normom**"
   ]
  },
  {
   "cell_type": "markdown",
   "metadata": {
    "id": "eBiaH_7x0oUm"
   },
   "source": [
    "Rastojanje Minkovskog\n",
    "\n",
    "* **r = 1** Menhetn (L1 norma) rastojanje\n",
    "    Hamingovo rastojanje\n",
    "* **r = 2** Euklidsko rastojanje\n",
    "\n",
    "* **r → ∞**  supremum (Lmax norma) rastojanje\n",
    "\n",
    "> Predstavlja maksimum razlike između odgovarajucih komponenti vektora\n",
    "\n",
    "\n"
   ]
  },
  {
   "cell_type": "markdown",
   "metadata": {},
   "source": [
    " - $standardizacija$ - proces skaliranja podataka tako da imaju srednju vrednost nula i standardnu devijaciju jedan (standardna normalna raspodela) i ne garantuje nam fiksnost u nekom intervalu\n",
    " - $normalizacija$ - uklanja razlike u razmerama tako da se podaci skaliraju na određeni opseg, obično od 0 do 1 ili -1 do 1, kako bi se olakšalo poređenje između različitih atributa ili instanci\n",
    "\n",
    " - $diskretizacija$ - transformacija neprekidnog atributa u kategorički atribut\n",
    " - $binarizacija$ - transformacija atributa u jedan ili više binarnih atributa"
   ]
  },
  {
   "cell_type": "code",
   "execution_count": 20,
   "metadata": {
    "id": "sm6WndpkItJN"
   },
   "outputs": [],
   "source": [
    "def minkowski(x, y, r):\n",
    "  if r <= 0:\n",
    "    raise ValueError(\"R is not positive!\")\n",
    "  return (sum([abs(x[v] - y[v])**r for v in x.index])**(1/r))  "
   ]
  },
  {
   "cell_type": "markdown",
   "metadata": {
    "id": "sKI51ckkDsNj"
   },
   "source": [
    "#### Zadatak 1:\n",
    "Posmatramo naredni skup tačaka:\n",
    "\n",
    "|point |x  | y|\n",
    "--- | --- | ---|\n",
    "|**p1**|0|2|\n",
    "|**p2**|2|0|\n",
    "|**p3**|3|1|\n",
    "|**p4**|5|1|\n",
    "\n",
    "Izračunati $L_1$, $L_2$, $L_{max}$ normu:"
   ]
  },
  {
   "cell_type": "code",
   "execution_count": 21,
   "metadata": {
    "colab": {
     "base_uri": "https://localhost:8080/",
     "height": 175
    },
    "id": "MYDSyfwNDrZc",
    "outputId": "b8ec06ef-88e1-4756-8361-5331451386b7"
   },
   "outputs": [
    {
     "data": {
      "text/html": [
       "<div>\n",
       "<style scoped>\n",
       "    .dataframe tbody tr th:only-of-type {\n",
       "        vertical-align: middle;\n",
       "    }\n",
       "\n",
       "    .dataframe tbody tr th {\n",
       "        vertical-align: top;\n",
       "    }\n",
       "\n",
       "    .dataframe thead th {\n",
       "        text-align: right;\n",
       "    }\n",
       "</style>\n",
       "<table border=\"1\" class=\"dataframe\">\n",
       "  <thead>\n",
       "    <tr style=\"text-align: right;\">\n",
       "      <th></th>\n",
       "      <th>x</th>\n",
       "      <th>y</th>\n",
       "    </tr>\n",
       "  </thead>\n",
       "  <tbody>\n",
       "    <tr>\n",
       "      <th>p1</th>\n",
       "      <td>0</td>\n",
       "      <td>2</td>\n",
       "    </tr>\n",
       "    <tr>\n",
       "      <th>p2</th>\n",
       "      <td>2</td>\n",
       "      <td>0</td>\n",
       "    </tr>\n",
       "    <tr>\n",
       "      <th>p3</th>\n",
       "      <td>3</td>\n",
       "      <td>1</td>\n",
       "    </tr>\n",
       "    <tr>\n",
       "      <th>p4</th>\n",
       "      <td>5</td>\n",
       "      <td>1</td>\n",
       "    </tr>\n",
       "  </tbody>\n",
       "</table>\n",
       "</div>"
      ],
      "text/plain": [
       "    x  y\n",
       "p1  0  2\n",
       "p2  2  0\n",
       "p3  3  1\n",
       "p4  5  1"
      ]
     },
     "execution_count": 21,
     "metadata": {},
     "output_type": "execute_result"
    }
   ],
   "source": [
    "points = pd.DataFrame([[0,2], [2, 0], [3, 1], [5, 1]], index=[\"p1\", \"p2\", \"p3\", \"p4\"], columns=[\"x\", \"y\"])\n",
    "points"
   ]
  },
  {
   "cell_type": "code",
   "execution_count": 22,
   "metadata": {
    "colab": {
     "base_uri": "https://localhost:8080/",
     "height": 347
    },
    "id": "Pz3yYgIr03PX",
    "outputId": "241a3968-a0ad-4c2f-de29-db773a50189f"
   },
   "outputs": [
    {
     "data": {
      "text/plain": [
       "Text(0.5, 1.0, 'Points')"
      ]
     },
     "execution_count": 22,
     "metadata": {},
     "output_type": "execute_result"
    },
    {
     "data": {
      "image/png": "[encoded data removed]",
      "text/plain": [
       "<Figure size 640x480 with 1 Axes>"
      ]
     },
     "metadata": {},
     "output_type": "display_data"
    }
   ],
   "source": [
    "points.plot.scatter(\"x\", \"y\")\n",
    "plt.title(\"Points\")\n"
   ]
  },
  {
   "cell_type": "markdown",
   "metadata": {
    "id": "1940dp5DRbzE"
   },
   "source": [
    "a) Izračunati L1 normu: \n",
    "\n",
    "Očekivan izlaz:\n",
    "\n",
    "|$L_1$|p1| p2|p3|p4|\n",
    "--- | --- | ---| ---|---|\n",
    "|**p1**|0|4|4|6|\n",
    "|**p2**|4|0|2|4|\n",
    "|**p3**|4|2|0|2|\n",
    "|**p4**|6|4|2|0|"
   ]
  },
  {
   "cell_type": "code",
   "execution_count": 23,
   "metadata": {
    "colab": {
     "base_uri": "https://localhost:8080/",
     "height": 175
    },
    "id": "h1TrYjDoIYG2",
    "outputId": "84bc437d-3e88-4971-f031-57c51f181c50"
   },
   "outputs": [
    {
     "data": {
      "text/html": [
       "<div>\n",
       "<style scoped>\n",
       "    .dataframe tbody tr th:only-of-type {\n",
       "        vertical-align: middle;\n",
       "    }\n",
       "\n",
       "    .dataframe tbody tr th {\n",
       "        vertical-align: top;\n",
       "    }\n",
       "\n",
       "    .dataframe thead th {\n",
       "        text-align: right;\n",
       "    }\n",
       "</style>\n",
       "<table border=\"1\" class=\"dataframe\">\n",
       "  <thead>\n",
       "    <tr style=\"text-align: right;\">\n",
       "      <th></th>\n",
       "      <th>p1</th>\n",
       "      <th>p2</th>\n",
       "      <th>p3</th>\n",
       "      <th>p4</th>\n",
       "    </tr>\n",
       "  </thead>\n",
       "  <tbody>\n",
       "    <tr>\n",
       "      <th>p1</th>\n",
       "      <td>0</td>\n",
       "      <td>4</td>\n",
       "      <td>4</td>\n",
       "      <td>6</td>\n",
       "    </tr>\n",
       "    <tr>\n",
       "      <th>p2</th>\n",
       "      <td>4</td>\n",
       "      <td>0</td>\n",
       "      <td>2</td>\n",
       "      <td>4</td>\n",
       "    </tr>\n",
       "    <tr>\n",
       "      <th>p3</th>\n",
       "      <td>4</td>\n",
       "      <td>2</td>\n",
       "      <td>0</td>\n",
       "      <td>2</td>\n",
       "    </tr>\n",
       "    <tr>\n",
       "      <th>p4</th>\n",
       "      <td>6</td>\n",
       "      <td>4</td>\n",
       "      <td>2</td>\n",
       "      <td>0</td>\n",
       "    </tr>\n",
       "  </tbody>\n",
       "</table>\n",
       "</div>"
      ],
      "text/plain": [
       "    p1  p2  p3  p4\n",
       "p1   0   4   4   6\n",
       "p2   4   0   2   4\n",
       "p3   4   2   0   2\n",
       "p4   6   4   2   0"
      ]
     },
     "execution_count": 23,
     "metadata": {},
     "output_type": "execute_result"
    }
   ],
   "source": [
    "def L1(points):\n",
    "    L1 = pd.DataFrame(0, index=points.index, columns=points.index)\n",
    "    for p1 in points.index:\n",
    "      for p2 in points.index:\n",
    "        L1[p1][p2] = minkowski(points.loc[p1], points.loc[p2], 1)\n",
    "    return L1\n",
    "\n",
    "L1(points)"
   ]
  },
  {
   "cell_type": "markdown",
   "metadata": {
    "id": "w55gT2GzSr0Q"
   },
   "source": [
    "a) Izračunati L2 normu: \n",
    "\n",
    "Očekivan izlaz:\n",
    "\n",
    "|$L_2$|p1| p2|p3|p4|\n",
    "--- | --- | ---| ---|---|\n",
    "|**p1**|0.0|2.828|3.162|5.099|\n",
    "|**p2**|2.828|0.0|1.414|3.162|\n",
    "|**p3**|3.162|1.414|0.0|2.0|\n",
    "|**p4**|5.099|3.162|2.0|0.0|"
   ]
  },
  {
   "cell_type": "code",
   "execution_count": 24,
   "metadata": {
    "colab": {
     "base_uri": "https://localhost:8080/",
     "height": 175
    },
    "id": "F49EIQhyK2u5",
    "outputId": "b5e12939-4079-48ea-8868-7035ae3e99f0"
   },
   "outputs": [
    {
     "data": {
      "text/html": [
       "<div>\n",
       "<style scoped>\n",
       "    .dataframe tbody tr th:only-of-type {\n",
       "        vertical-align: middle;\n",
       "    }\n",
       "\n",
       "    .dataframe tbody tr th {\n",
       "        vertical-align: top;\n",
       "    }\n",
       "\n",
       "    .dataframe thead th {\n",
       "        text-align: right;\n",
       "    }\n",
       "</style>\n",
       "<table border=\"1\" class=\"dataframe\">\n",
       "  <thead>\n",
       "    <tr style=\"text-align: right;\">\n",
       "      <th></th>\n",
       "      <th>p1</th>\n",
       "      <th>p2</th>\n",
       "      <th>p3</th>\n",
       "      <th>p4</th>\n",
       "    </tr>\n",
       "  </thead>\n",
       "  <tbody>\n",
       "    <tr>\n",
       "      <th>p1</th>\n",
       "      <td>0.000000</td>\n",
       "      <td>2.828427</td>\n",
       "      <td>3.162278</td>\n",
       "      <td>5.099020</td>\n",
       "    </tr>\n",
       "    <tr>\n",
       "      <th>p2</th>\n",
       "      <td>2.828427</td>\n",
       "      <td>0.000000</td>\n",
       "      <td>1.414214</td>\n",
       "      <td>3.162278</td>\n",
       "    </tr>\n",
       "    <tr>\n",
       "      <th>p3</th>\n",
       "      <td>3.162278</td>\n",
       "      <td>1.414214</td>\n",
       "      <td>0.000000</td>\n",
       "      <td>2.000000</td>\n",
       "    </tr>\n",
       "    <tr>\n",
       "      <th>p4</th>\n",
       "      <td>5.099020</td>\n",
       "      <td>3.162278</td>\n",
       "      <td>2.000000</td>\n",
       "      <td>0.000000</td>\n",
       "    </tr>\n",
       "  </tbody>\n",
       "</table>\n",
       "</div>"
      ],
      "text/plain": [
       "          p1        p2        p3        p4\n",
       "p1  0.000000  2.828427  3.162278  5.099020\n",
       "p2  2.828427  0.000000  1.414214  3.162278\n",
       "p3  3.162278  1.414214  0.000000  2.000000\n",
       "p4  5.099020  3.162278  2.000000  0.000000"
      ]
     },
     "execution_count": 24,
     "metadata": {},
     "output_type": "execute_result"
    }
   ],
   "source": [
    "def L2(points):\n",
    "    L2 = pd.DataFrame(0, index=points.index, columns=points.index, dtype='float64')\n",
    "    for p1 in points.index:\n",
    "      for p2 in points.index:\n",
    "        L2[p1][p2] = minkowski(points.loc[p1], points.loc[p2], 2)\n",
    "    return L2\n",
    "L2(points)"
   ]
  },
  {
   "cell_type": "markdown",
   "metadata": {
    "id": "s2YkMcnXTcg0"
   },
   "source": [
    "a) Izračunati Lmax normu: \n",
    "\n",
    "Očekivan izlaz:\n",
    "\n",
    "|$L_max$|p1| p2|p3|p4|\n",
    "--- | --- | ---| ---|---|\n",
    "|**p1**|0|2|3|5|\n",
    "|**p2**|2|0|1|3|\n",
    "|**p3**|3|1|0|2|\n",
    "|**p4**|5|3|2|0|"
   ]
  },
  {
   "cell_type": "code",
   "execution_count": 25,
   "metadata": {
    "colab": {
     "base_uri": "https://localhost:8080/",
     "height": 175
    },
    "id": "GkOdSzlVLnv9",
    "outputId": "72b6ef3e-d02d-486c-f3e9-8cec660a8198"
   },
   "outputs": [
    {
     "data": {
      "text/html": [
       "<div>\n",
       "<style scoped>\n",
       "    .dataframe tbody tr th:only-of-type {\n",
       "        vertical-align: middle;\n",
       "    }\n",
       "\n",
       "    .dataframe tbody tr th {\n",
       "        vertical-align: top;\n",
       "    }\n",
       "\n",
       "    .dataframe thead th {\n",
       "        text-align: right;\n",
       "    }\n",
       "</style>\n",
       "<table border=\"1\" class=\"dataframe\">\n",
       "  <thead>\n",
       "    <tr style=\"text-align: right;\">\n",
       "      <th></th>\n",
       "      <th>p1</th>\n",
       "      <th>p2</th>\n",
       "      <th>p3</th>\n",
       "      <th>p4</th>\n",
       "    </tr>\n",
       "  </thead>\n",
       "  <tbody>\n",
       "    <tr>\n",
       "      <th>p1</th>\n",
       "      <td>0</td>\n",
       "      <td>2</td>\n",
       "      <td>3</td>\n",
       "      <td>5</td>\n",
       "    </tr>\n",
       "    <tr>\n",
       "      <th>p2</th>\n",
       "      <td>2</td>\n",
       "      <td>0</td>\n",
       "      <td>1</td>\n",
       "      <td>3</td>\n",
       "    </tr>\n",
       "    <tr>\n",
       "      <th>p3</th>\n",
       "      <td>3</td>\n",
       "      <td>1</td>\n",
       "      <td>0</td>\n",
       "      <td>2</td>\n",
       "    </tr>\n",
       "    <tr>\n",
       "      <th>p4</th>\n",
       "      <td>5</td>\n",
       "      <td>3</td>\n",
       "      <td>2</td>\n",
       "      <td>0</td>\n",
       "    </tr>\n",
       "  </tbody>\n",
       "</table>\n",
       "</div>"
      ],
      "text/plain": [
       "    p1  p2  p3  p4\n",
       "p1   0   2   3   5\n",
       "p2   2   0   1   3\n",
       "p3   3   1   0   2\n",
       "p4   5   3   2   0"
      ]
     },
     "execution_count": 25,
     "metadata": {},
     "output_type": "execute_result"
    }
   ],
   "source": [
    "def Lmax(points):\n",
    "    Lmax = pd.DataFrame(0, index=points.index, columns=points.index)\n",
    "    for p1 in points.index:\n",
    "      for p2 in points.index:\n",
    "        Lmax[p1][p2] = max(abs(points.loc[p1] - points.loc[p2]))\n",
    "    return Lmax\n",
    "Lmax(points)"
   ]
  },
  {
   "cell_type": "markdown",
   "metadata": {
    "id": "-7Ubk5E6BRSl"
   },
   "source": [
    "Domaći: Optimizovati implementaciju funkcija L1, L2, Lmax na osnovu činjenice da su rezultujuće matrice simetrične."
   ]
  },
  {
   "cell_type": "markdown",
   "metadata": {
    "id": "29KBqt5jCLcp"
   },
   "source": [
    "## Mere sličnosti za binarne podatke\n",
    "\n",
    "* Hamingovo rastojanje\n",
    "* Simple matching coefficient (SMC)\n",
    "* Jacard's coefficient\n",
    "* Cosine similarity\n",
    "\n",
    "Oznake: Ako su p i q binarni podaci:\n",
    "\n",
    "* $M_{00}$ - broj atributa koji su 0 u p i 0 u q\n",
    "* $M_{01}$ - broj atributa koji su 0 u p i 1 u q\n",
    "* $M_{10}$ - broj atributa koji su 1 u p i 0 u q\n",
    "* $M_{11}$ - broj atributa koji su 1 u p i 1 u q\n"
   ]
  },
  {
   "cell_type": "markdown",
   "metadata": {
    "id": "9RhPebW4MeQx"
   },
   "source": [
    "### Hamingovo rastojanje\n",
    "- broj različitih vrednosti\n",
    "- $mera$ $različitosti$\n"
   ]
  },
  {
   "cell_type": "code",
   "execution_count": 26,
   "metadata": {
    "id": "40ioqOqOMtuH"
   },
   "outputs": [],
   "source": [
    "def hammings_distance(p, q):\n",
    "  return (p != q).sum()"
   ]
  },
  {
   "cell_type": "code",
   "execution_count": 27,
   "metadata": {
    "colab": {
     "base_uri": "https://localhost:8080/"
    },
    "id": "zVFij34UM7M9",
    "outputId": "eff1c18e-147e-4ffb-da85-e80b825cf2d7"
   },
   "outputs": [
    {
     "data": {
      "text/plain": [
       "3"
      ]
     },
     "execution_count": 27,
     "metadata": {},
     "output_type": "execute_result"
    }
   ],
   "source": [
    "p = pd.Series([0, 1, 0, 1, 0, 1, 0, 0, 0, 1])\n",
    "q = pd.Series([0, 1, 0, 0, 0, 1, 1, 0, 0, 0])\n",
    "\n",
    "hammings_distance(p, q) # izlaz: 3"
   ]
  },
  {
   "cell_type": "markdown",
   "metadata": {
    "id": "CPPwTGLaDfwr"
   },
   "source": [
    "### SMC\n",
    "##### (Simple Matching Coefficient)\n",
    "$SMC(p, q) = \\frac{M_{00} + M_{11}}{M_{00} + M_{11} + M_{01} + M_{10}}$\n",
    "\n",
    "- broj uparenih / broj ukupnih"
   ]
  },
  {
   "cell_type": "code",
   "execution_count": 28,
   "metadata": {
    "id": "GoSxtpY3EOEk"
   },
   "outputs": [],
   "source": [
    "def smc(p, q):\n",
    "    return (p == q).sum() / p.count()"
   ]
  },
  {
   "cell_type": "code",
   "execution_count": 29,
   "metadata": {
    "colab": {
     "base_uri": "https://localhost:8080/"
    },
    "id": "HSm1oGonD39Q",
    "outputId": "97ece6eb-df52-4ca6-ce0f-777a1ee34b19"
   },
   "outputs": [
    {
     "data": {
      "text/plain": [
       "0.6666666666666666"
      ]
     },
     "execution_count": 29,
     "metadata": {},
     "output_type": "execute_result"
    }
   ],
   "source": [
    "p = pd.Series([0, 1, 1, 0, 1, 0])\n",
    "q = pd.Series([1, 0, 1, 0, 1, 0])\n",
    "\n",
    "smc(p, q) # izlaz: 0.666666666666"
   ]
  },
  {
   "cell_type": "markdown",
   "metadata": {
    "id": "ZlFNKeCuEXrl"
   },
   "source": [
    "### Jacard's coefficient\n",
    "- koristi se kod asimetricnih binarnih podataka\n",
    "- $mera$ $sličnosti$\n",
    "\n",
    "$ jacard(p, q) = \\frac{M_{11}}{M_{11} + M_{01} + M_{10}}$"
   ]
  },
  {
   "cell_type": "code",
   "execution_count": 30,
   "metadata": {
    "id": "MNbybMqMETL_"
   },
   "outputs": [],
   "source": [
    "def jacard(p, q):\n",
    "  return (p+q == 2).sum() / (p+q != 0).sum()"
   ]
  },
  {
   "cell_type": "code",
   "execution_count": 31,
   "metadata": {
    "colab": {
     "base_uri": "https://localhost:8080/"
    },
    "id": "oELIdhpsE5ZN",
    "outputId": "e77256c5-e3bd-4288-c7e4-0cf420d750c6"
   },
   "outputs": [
    {
     "data": {
      "text/plain": [
       "0.4"
      ]
     },
     "execution_count": 31,
     "metadata": {},
     "output_type": "execute_result"
    }
   ],
   "source": [
    "p = pd.Series([0, 1, 0, 1, 0, 1, 0, 0, 0, 1])\n",
    "q = pd.Series([0, 1, 0, 0, 0, 1, 1, 0, 0, 0])\n",
    "\n",
    "jacard(p, q) # izlaz: 0.4\n"
   ]
  },
  {
   "cell_type": "markdown",
   "metadata": {
    "id": "KHhYwiJlI7aM"
   },
   "source": [
    "### Kosinusno rastojanje\n",
    "\n",
    "$cos(p, q) = \\frac{p ⊙ q}{|p||q|}$\n",
    "\n",
    "- ⊙ - skalarni proizvod\n",
    "\n",
    "- |p| - norma vektora p, označava dužinu vektora\n",
    "\n",
    "- Koristi se kod asimetričnih podataka.\n",
    "\n",
    "- Najčešća mere sličnosti dokumenata.\n"
   ]
  },
  {
   "cell_type": "code",
   "execution_count": 32,
   "metadata": {
    "id": "JYlc1OW0HKwL"
   },
   "outputs": [],
   "source": [
    "def norm(x):\n",
    "  return np.sqrt((x*x).sum())"
   ]
  },
  {
   "cell_type": "code",
   "execution_count": 33,
   "metadata": {
    "id": "HtHuCgSrJf0g"
   },
   "outputs": [],
   "source": [
    "def cosine_similarity(p, q):\n",
    "  return (p*q).sum() / (norm(p)*norm(q))"
   ]
  },
  {
   "cell_type": "code",
   "execution_count": 34,
   "metadata": {
    "colab": {
     "base_uri": "https://localhost:8080/"
    },
    "id": "2Z4rrDHUKLvV",
    "outputId": "7710ceff-dd7e-42aa-feec-62fec2f9b5b6"
   },
   "outputs": [
    {
     "data": {
      "text/plain": [
       "0.5773502691896258"
      ]
     },
     "execution_count": 34,
     "metadata": {},
     "output_type": "execute_result"
    }
   ],
   "source": [
    "cosine_similarity(p, q) # izlaz: 0.5773502691896258"
   ]
  },
  {
   "cell_type": "markdown",
   "metadata": {
    "id": "6Fs-0DRUNPMR"
   },
   "source": [
    "### Korelacija:\n",
    "$corr(p, q) = \\frac{covariance(p, q)}{σ(p) * σ(q)}$\n",
    "\n",
    "Korelacija dva objekta koji imaju binarne ili neprekidne atribute\n",
    "je *mera linearnog odnosa između njihovih atributa*"
   ]
  },
  {
   "cell_type": "code",
   "execution_count": 35,
   "metadata": {
    "id": "GRdChDkYNwV4"
   },
   "outputs": [],
   "source": [
    "def correlation(p, q):\n",
    "  return (np.cov(p, q) / (p.std()*q.std()))[0][1]"
   ]
  },
  {
   "cell_type": "code",
   "execution_count": 36,
   "metadata": {
    "colab": {
     "base_uri": "https://localhost:8080/"
    },
    "id": "YluuLLebN8L9",
    "outputId": "605381dc-af3e-4f88-e9b4-9695a73517cc"
   },
   "outputs": [
    {
     "data": {
      "text/plain": [
       "0.3563483225498993"
      ]
     },
     "execution_count": 36,
     "metadata": {},
     "output_type": "execute_result"
    }
   ],
   "source": [
    "correlation(p, q) # izlaz: 0.3563483225498993\n"
   ]
  },
  {
   "cell_type": "code",
   "execution_count": null,
   "metadata": {},
   "outputs": [],
   "source": []
  }
 ],
 "metadata": {
  "colab": {
   "provenance": []
  },
  "kernelspec": {
   "display_name": "Python 3 (ipykernel)",
   "language": "python",
   "name": "python3"
  },
  "language_info": {
   "codemirror_mode": {
    "name": "ipython",
    "version": 3
   },
   "file_extension": ".py",
   "mimetype": "text/x-python",
   "name": "python",
   "nbconvert_exporter": "python",
   "pygments_lexer": "ipython3",
   "version": "3.12.0"
  }
 },
 "nbformat": 4,
 "nbformat_minor": 4
}
